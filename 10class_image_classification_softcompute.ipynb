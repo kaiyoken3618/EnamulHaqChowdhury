{
  "nbformat": 4,
  "nbformat_minor": 0,
  "metadata": {
    "colab": {
      "name": "10class_image_classification_softcompute.ipynb",
      "provenance": [],
      "authorship_tag": "ABX9TyN6p+HOr9QMd9B1M6iwo7+h",
      "include_colab_link": true
    },
    "kernelspec": {
      "name": "python3",
      "display_name": "Python 3"
    },
    "accelerator": "GPU"
  },
  "cells": [
    {
      "cell_type": "markdown",
      "metadata": {
        "id": "view-in-github",
        "colab_type": "text"
      },
      "source": [
        "<a href=\"https://colab.research.google.com/github/kaiyoken3618/EnamulHaqChowdhury/blob/main/10class_image_classification_softcompute.ipynb\" target=\"_parent\"><img src=\"https://colab.research.google.com/assets/colab-badge.svg\" alt=\"Open In Colab\"/></a>"
      ]
    },
    {
      "cell_type": "code",
      "metadata": {
        "id": "mQboZWXNvFdT"
      },
      "source": [
        "#library import"
      ],
      "execution_count": null,
      "outputs": []
    },
    {
      "cell_type": "code",
      "metadata": {
        "id": "nB7L9GQBvvaf"
      },
      "source": [
        "import tensorflow as tf \n",
        "from tensorflow import keras \n",
        "from keras.models import Sequential \n",
        "from keras.layers import Dense, Flatten, Conv2D, MaxPooling2D, Dropout \n",
        "from tensorflow.keras import layers  \n",
        "from keras.utils import to_categorical \n",
        "import numpy as np \n",
        "import matplotlib.pyplot as plt \n",
        "plt.style.use('fivethirtyeight')   "
      ],
      "execution_count": null,
      "outputs": []
    },
    {
      "cell_type": "markdown",
      "metadata": {
        "id": "euIgp9SUzzRa"
      },
      "source": [
        "Dataset(cifar 10) loading"
      ]
    },
    {
      "cell_type": "code",
      "metadata": {
        "id": "na2RbiqWz5wn",
        "outputId": "46106931-d4bf-46ff-c67c-4e65c8fb7fef",
        "colab": {
          "base_uri": "https://localhost:8080/",
          "height": 54
        }
      },
      "source": [
        "from keras.datasets import cifar10 \n",
        "(x_train,y_train),(x_test,y_test) = cifar10.load_data() "
      ],
      "execution_count": null,
      "outputs": [
        {
          "output_type": "stream",
          "text": [
            "Downloading data from https://www.cs.toronto.edu/~kriz/cifar-10-python.tar.gz\n",
            "170500096/170498071 [==============================] - 8s 0us/step\n"
          ],
          "name": "stdout"
        }
      ]
    },
    {
      "cell_type": "code",
      "metadata": {
        "id": "ur5vjiN16X8K",
        "outputId": "67d4a52c-ed36-41ff-96cc-ec5cff1f28aa",
        "colab": {
          "base_uri": "https://localhost:8080/",
          "height": 356
        }
      },
      "source": [
        "print('x_train shape:',x_train.shape)  \n",
        "print('y_train shape:',y_train.shape) \n",
        "print('x_train shape:',x_train.shape) \n",
        "print('y_test shape:',y_test.shape) \n",
        "img=plt.imshow(x_train[0])\n"
      ],
      "execution_count": null,
      "outputs": [
        {
          "output_type": "stream",
          "text": [
            "x_train shape: (50000, 32, 32, 3)\n",
            "y_train shape: (50000, 1)\n",
            "x_train shape: (50000, 32, 32, 3)\n",
            "y_test shape: (10000, 1)\n"
          ],
          "name": "stdout"
        },
        {
          "output_type": "display_data",
          "data": {
            "image/png": "[encoded data removed]",
            "text/plain": [
              "<Figure size 432x288 with 1 Axes>"
            ]
          },
          "metadata": {
            "tags": []
          }
        }
      ]
    },
    {
      "cell_type": "markdown",
      "metadata": {
        "id": "ScAEMX2lbG-M"
      },
      "source": [
        "Classification"
      ]
    },
    {
      "cell_type": "code",
      "metadata": {
        "id": "9BvqNZqpbIbs"
      },
      "source": [
        "classification = ['airplane','automobile','bird','cat','deer','dog','frog','horse','ship','truck'] \n"
      ],
      "execution_count": null,
      "outputs": []
    },
    {
      "cell_type": "markdown",
      "metadata": {
        "id": "j540Wked-a3V"
      },
      "source": [
        "converting labels into set of 10 numbers to input into neural network\n"
      ]
    },
    {
      "cell_type": "code",
      "metadata": {
        "id": "lPTJS-Qv-YcZ"
      },
      "source": [
        "y_train_one_hot=to_categorical(y_train) \n",
        "y_test_one_hot=to_categorical(y_test) \n"
      ],
      "execution_count": null,
      "outputs": []
    },
    {
      "cell_type": "markdown",
      "metadata": {
        "id": "PZiPfWhDCA6x"
      },
      "source": [
        "Normalizing the pixel values between 0 to 1"
      ]
    },
    {
      "cell_type": "code",
      "metadata": {
        "id": "okNAsOybB_ww"
      },
      "source": [
        "x_train=x_train/255 \n",
        "x_test=x_test/255"
      ],
      "execution_count": null,
      "outputs": []
    },
    {
      "cell_type": "markdown",
      "metadata": {
        "id": "P38TQ9gYC7lC"
      },
      "source": [
        "Model Architecture"
      ]
    },
    {
      "cell_type": "code",
      "metadata": {
        "id": "j1OdxER7DAA6"
      },
      "source": [
        "model=Sequential() \n",
        " \n",
        "#1st layer(convolution layer to extract features from input image**input_shape given because 1st layer(32*32 with depth 3)**) \n",
        "model.add(  Conv2D(32,(5,5),activation='relu',input_shape=(32,32,3)) )  \n",
        " \n",
        "#2nd layer(pooling layer to get the max elemnt from the feature maps) \n",
        "model.add(MaxPooling2D(pool_size=(2,2)))  \n",
        " \n",
        "#another convolution layer \n",
        "model.add(  Conv2D(32,(5,5),activation='relu') )   \n",
        "\n",
        "#another pooling layer \n",
        "model.add(MaxPooling2D(pool_size=(2,2)))   \n",
        "\n",
        "#Flattening layer(to reduce dimnension to get linear array) \n",
        "model.add(Flatten())   \n",
        " \n",
        "#Layer with 1000 neurons \n",
        "model.add(Dense(1000,activation='relu'))   \n",
        " \n",
        "#drop out layer(to avoid overfitting) \n",
        "model.add(Dropout(0.5))  \n",
        "\n",
        "#**another** \n",
        "\n",
        "#Layer with 500 neurons \n",
        "model.add(Dense(500,activation='relu'))   \n",
        " \n",
        "#drop out layer(to avoid overfitting) \n",
        "model.add(Dropout(0.5)) \n",
        "  \n",
        "#Layer with 250 neurons \n",
        "model.add(Dense(250,activation='relu'))  \n",
        " \n",
        "#Layer with 10 neurons(10 class) \n",
        "model.add(Dense(10,activation='softmax'))  \n",
        "\n",
        "\n",
        "\n"
      ],
      "execution_count": null,
      "outputs": []
    },
    {
      "cell_type": "markdown",
      "metadata": {
        "id": "3PeumJEUJcS4"
      },
      "source": [
        "compile the model"
      ]
    },
    {
      "cell_type": "code",
      "metadata": {
        "id": "MelEmTcrJYCK"
      },
      "source": [
        "model.compile(loss='categorical_crossentropy', \n",
        "              optimizer = 'adam', \n",
        "              metrics = ['accuracy'])"
      ],
      "execution_count": null,
      "outputs": []
    },
    {
      "cell_type": "markdown",
      "metadata": {
        "id": "Oif-GkzhLeCT"
      },
      "source": [
        "Train model and splitting 20% into validation set"
      ]
    },
    {
      "cell_type": "code",
      "metadata": {
        "id": "DrrojamaLf-R",
        "outputId": "2ccf4654-1b66-4a47-b166-5419b3aa36a1",
        "colab": {
          "base_uri": "https://localhost:8080/",
          "height": 381
        }
      },
      "source": [
        "hist=model.fit(x_train,y_train_one_hot, \n",
        "               batch_size=256, \n",
        "               epochs =10,\n",
        "               validation_split = 0.2)"
      ],
      "execution_count": null,
      "outputs": [
        {
          "output_type": "stream",
          "text": [
            "Epoch 1/10\n",
            "157/157 [==============================] - 3s 20ms/step - loss: 1.7824 - accuracy: 0.3354 - val_loss: 1.4767 - val_accuracy: 0.4610\n",
            "Epoch 2/10\n",
            "157/157 [==============================] - 3s 16ms/step - loss: 1.3971 - accuracy: 0.4902 - val_loss: 1.3760 - val_accuracy: 0.5081\n",
            "Epoch 3/10\n",
            "157/157 [==============================] - 3s 16ms/step - loss: 1.2429 - accuracy: 0.5519 - val_loss: 1.1758 - val_accuracy: 0.5836\n",
            "Epoch 4/10\n",
            "157/157 [==============================] - 2s 16ms/step - loss: 1.1382 - accuracy: 0.5937 - val_loss: 1.1031 - val_accuracy: 0.6044\n",
            "Epoch 5/10\n",
            "157/157 [==============================] - 3s 16ms/step - loss: 1.0536 - accuracy: 0.6248 - val_loss: 1.0407 - val_accuracy: 0.6272\n",
            "Epoch 6/10\n",
            "157/157 [==============================] - 3s 16ms/step - loss: 0.9729 - accuracy: 0.6568 - val_loss: 1.0276 - val_accuracy: 0.6340\n",
            "Epoch 7/10\n",
            "157/157 [==============================] - 3s 16ms/step - loss: 0.9060 - accuracy: 0.6801 - val_loss: 0.9693 - val_accuracy: 0.6606\n",
            "Epoch 8/10\n",
            "157/157 [==============================] - 3s 16ms/step - loss: 0.8621 - accuracy: 0.6948 - val_loss: 0.9440 - val_accuracy: 0.6695\n",
            "Epoch 9/10\n",
            "157/157 [==============================] - 3s 16ms/step - loss: 0.8008 - accuracy: 0.7167 - val_loss: 0.9124 - val_accuracy: 0.6857\n",
            "Epoch 10/10\n",
            "157/157 [==============================] - 3s 16ms/step - loss: 0.7541 - accuracy: 0.7335 - val_loss: 0.9212 - val_accuracy: 0.6809\n"
          ],
          "name": "stdout"
        }
      ]
    },
    {
      "cell_type": "markdown",
      "metadata": {
        "id": "3YaLP0Y4TfsF"
      },
      "source": [
        "Evaluate Model using test dataset"
      ]
    },
    {
      "cell_type": "code",
      "metadata": {
        "id": "pZ0WgNITTk8O",
        "outputId": "cd4c3c53-3128-4916-fffe-0aa7d1ada1f0",
        "colab": {
          "base_uri": "https://localhost:8080/",
          "height": 35
        }
      },
      "source": [
        "pred=model.evaluate(x_test,y_test_one_hot)[1]"
      ],
      "execution_count": null,
      "outputs": [
        {
          "output_type": "stream",
          "text": [
            "313/313 [==============================] - 1s 4ms/step - loss: 0.9412 - accuracy: 0.6751\n"
          ],
          "name": "stdout"
        }
      ]
    },
    {
      "cell_type": "markdown",
      "metadata": {
        "id": "Xqa4_blkWEt_"
      },
      "source": [
        "Model accuracy graph"
      ]
    },
    {
      "cell_type": "code",
      "metadata": {
        "id": "FnjUOpSbWG-P",
        "outputId": "f14c9c15-b67d-47b0-e49d-7744a7e59eed",
        "colab": {
          "base_uri": "https://localhost:8080/",
          "height": 579
        }
      },
      "source": [
        "plt.plot(hist.history['accuracy']) \n",
        "plt.plot(hist.history['val_accuracy']) \n",
        "plt.title('Model accuracy') \n",
        "plt.ylabel('Accuracy') \n",
        "plt.xlabel('Epoch') \n",
        "plt.legend(['Train', 'Val'],loc='upper leftt') \n",
        "plt.show()"
      ],
      "execution_count": null,
      "outputs": [
        {
          "output_type": "stream",
          "text": [
            "/usr/local/lib/python3.6/dist-packages/ipykernel_launcher.py:6: MatplotlibDeprecationWarning: Unrecognized location 'upper leftt'. Falling back on 'best'; valid locations are\n",
            "\tbest\n",
            "\tupper right\n",
            "\tupper left\n",
            "\tlower left\n",
            "\tlower right\n",
            "\tright\n",
            "\tcenter left\n",
            "\tcenter right\n",
            "\tlower center\n",
            "\tupper center\n",
            "\tcenter\n",
            "This will raise an exception in 3.3.\n",
            "  \n"
          ],
          "name": "stderr"
        },
        {
          "output_type": "display_data",
          "data": {
            "image/png": "[encoded data removed]",
            "text/plain": [
              "<Figure size 432x288 with 1 Axes>"
            ]
          },
          "metadata": {
            "tags": []
          }
        }
      ]
    },
    {
      "cell_type": "markdown",
      "metadata": {
        "id": "_3sU6_uyXICJ"
      },
      "source": [
        "Model Loss graph"
      ]
    },
    {
      "cell_type": "code",
      "metadata": {
        "id": "ET4EgoELXJiA",
        "outputId": "537e29d9-f690-4d5e-db35-bcab2c11b9e2",
        "colab": {
          "base_uri": "https://localhost:8080/",
          "height": 579
        }
      },
      "source": [
        "plt.plot(hist.history['loss']) \n",
        "plt.plot(hist.history['val_loss']) \n",
        "plt.title('Model Loss') \n",
        "plt.ylabel('Loss') \n",
        "plt.xlabel('Epoch') \n",
        "plt.legend(['Train', 'Val'],loc='upper rightt') \n",
        "plt.show()"
      ],
      "execution_count": null,
      "outputs": [
        {
          "output_type": "stream",
          "text": [
            "/usr/local/lib/python3.6/dist-packages/ipykernel_launcher.py:6: MatplotlibDeprecationWarning: Unrecognized location 'upper rightt'. Falling back on 'best'; valid locations are\n",
            "\tbest\n",
            "\tupper right\n",
            "\tupper left\n",
            "\tlower left\n",
            "\tlower right\n",
            "\tright\n",
            "\tcenter left\n",
            "\tcenter right\n",
            "\tlower center\n",
            "\tupper center\n",
            "\tcenter\n",
            "This will raise an exception in 3.3.\n",
            "  \n"
          ],
          "name": "stderr"
        },
        {
          "output_type": "display_data",
          "data": {
            "image/png": "[encoded data removed]",
            "text/plain": [
              "<Figure size 432x288 with 1 Axes>"
            ]
          },
          "metadata": {
            "tags": []
          }
        }
      ]
    },
    {
      "cell_type": "markdown",
      "metadata": {
        "id": "JtYMdIBZXmpK"
      },
      "source": [
        "Test with input image"
      ]
    },
    {
      "cell_type": "code",
      "metadata": {
        "id": "DVCagyzAXqZ_",
        "outputId": "c00b4e6d-1f12-409e-ac5f-69a6455ce491",
        "colab": {
          "resources": {
            "http://localhost:8080/nbextensions/google.colab/files.js": {
              "data": "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",
              "ok": true,
              "headers": [
                [
                  "content-type",
                  "application/javascript"
                ]
              ],
              "status": 200,
              "status_text": ""
            }
          },
          "base_uri": "https://localhost:8080/",
          "height": 37
        }
      },
      "source": [
        "from google.colab import files \n",
        "uploaded = files.upload() "
      ],
      "execution_count": null,
      "outputs": [
        {
          "output_type": "display_data",
          "data": {
            "text/html": [
              "\n",
              "     <input type=\"file\" id=\"files-bb177418-89b3-4f42-9eee-c2f59f9ab724\" name=\"files[]\" multiple disabled\n",
              "        style=\"border:none\" />\n",
              "     <output id=\"result-bb177418-89b3-4f42-9eee-c2f59f9ab724\">\n",
              "      Upload widget is only available when the cell has been executed in the\n",
              "      current browser session. Please rerun this cell to enable.\n",
              "      </output>\n",
              "      <script src=\"/nbextensions/google.colab/files.js\"></script> "
            ],
            "text/plain": [
              "<IPython.core.display.HTML object>"
            ]
          },
          "metadata": {
            "tags": []
          }
        }
      ]
    },
    {
      "cell_type": "code",
      "metadata": {
        "id": "7EtZQ_CnYDhj",
        "outputId": "d1e8af92-5ac0-445b-f584-ed57c0794a91",
        "colab": {
          "base_uri": "https://localhost:8080/",
          "height": 207
        }
      },
      "source": [
        "#image show \n",
        "new_image= plt.imread('horse.jpg') \n",
        "img=plt.imshow(new_image)"
      ],
      "execution_count": null,
      "outputs": [
        {
          "output_type": "error",
          "ename": "NameError",
          "evalue": "ignored",
          "traceback": [
            "\u001b[0;31m---------------------------------------------------------------------------\u001b[0m",
            "\u001b[0;31mNameError\u001b[0m                                 Traceback (most recent call last)",
            "\u001b[0;32m<ipython-input-1-1546f5647612>\u001b[0m in \u001b[0;36m<module>\u001b[0;34m()\u001b[0m\n\u001b[1;32m      1\u001b[0m \u001b[0;31m#image show\u001b[0m\u001b[0;34m\u001b[0m\u001b[0;34m\u001b[0m\u001b[0;34m\u001b[0m\u001b[0m\n\u001b[0;32m----> 2\u001b[0;31m \u001b[0mnew_image\u001b[0m\u001b[0;34m=\u001b[0m \u001b[0mplt\u001b[0m\u001b[0;34m.\u001b[0m\u001b[0mimread\u001b[0m\u001b[0;34m(\u001b[0m\u001b[0;34m'horse.jpg'\u001b[0m\u001b[0;34m)\u001b[0m\u001b[0;34m\u001b[0m\u001b[0;34m\u001b[0m\u001b[0m\n\u001b[0m\u001b[1;32m      3\u001b[0m \u001b[0mimg\u001b[0m\u001b[0;34m=\u001b[0m\u001b[0mplt\u001b[0m\u001b[0;34m.\u001b[0m\u001b[0mimshow\u001b[0m\u001b[0;34m(\u001b[0m\u001b[0mnew_image\u001b[0m\u001b[0;34m)\u001b[0m\u001b[0;34m\u001b[0m\u001b[0;34m\u001b[0m\u001b[0m\n",
            "\u001b[0;31mNameError\u001b[0m: name 'plt' is not defined"
          ]
        }
      ]
    },
    {
      "cell_type": "markdown",
      "metadata": {
        "id": "H9Dr-KU4YS8N"
      },
      "source": [
        "Resize to 32*32"
      ]
    },
    {
      "cell_type": "code",
      "metadata": {
        "id": "MJoKTtx_YXdH",
        "outputId": "bbe2dcd1-cc32-41dd-ec97-87dc100f90f4",
        "colab": {
          "base_uri": "https://localhost:8080/",
          "height": 284
        }
      },
      "source": [
        "from skimage.transform import resize \n",
        "resized_image=resize(new_image,(32,32,3))\n",
        "img=plt.imshow(resized_image) "
      ],
      "execution_count": null,
      "outputs": [
        {
          "output_type": "display_data",
          "data": {
            "image/png": "[encoded data removed]",
            "text/plain": [
              "<Figure size 432x288 with 1 Axes>"
            ]
          },
          "metadata": {
            "tags": []
          }
        }
      ]
    },
    {
      "cell_type": "markdown",
      "metadata": {
        "id": "jOkCIERSY2K1"
      },
      "source": [
        "predict result"
      ]
    },
    {
      "cell_type": "code",
      "metadata": {
        "id": "weYR8lLFY5Zb",
        "outputId": "8c761d0c-d927-4e16-cf15-fb7566f48e26",
        "colab": {
          "base_uri": "https://localhost:8080/",
          "height": 72
        }
      },
      "source": [
        "predictions=model.predict(np.array([resized_image])) \n",
        "predictions  "
      ],
      "execution_count": null,
      "outputs": [
        {
          "output_type": "execute_result",
          "data": {
            "text/plain": [
              "array([[4.41011139e-08, 2.77046097e-09, 1.72774362e-05, 3.02174908e-06,\n",
              "        2.89089303e-03, 1.07097265e-04, 1.59714901e-07, 9.96981561e-01,\n",
              "        1.62874381e-10, 3.69400404e-08]], dtype=float32)"
            ]
          },
          "metadata": {
            "tags": []
          },
          "execution_count": 18
        }
      ]
    },
    {
      "cell_type": "code",
      "metadata": {
        "id": "7nV9rkf7Zgvr",
        "outputId": "06c6a670-fae4-4758-c17d-5adf7c970ff9",
        "colab": {
          "base_uri": "https://localhost:8080/",
          "height": 126
        }
      },
      "source": [
        "#sorting predictions from least to greatest \n",
        "list_index=[0,1,2,3,4,5,6,7,8,9] \n",
        "x=predictions \n",
        " \n",
        "for i in range (10): \n",
        "  for j in range (10): \n",
        "    if x[0][list_index[i]] > x[0][list_index[j]]: \n",
        "      temp=list_index[i] \n",
        "      list_index[i]=list_index[j] \n",
        "      list_index[j]=temp \n",
        "       \n",
        "print(list_index)  \n",
        " \n",
        "#printing top 5 predictions \n",
        "for i in range (5): \n",
        "  print(classification[list_index[i]], ':',round(predictions[0][list_index[i]]*100,2),'%') \n"
      ],
      "execution_count": null,
      "outputs": [
        {
          "output_type": "stream",
          "text": [
            "[7, 4, 5, 2, 3, 6, 0, 9, 1, 8]\n",
            "horse : 99.7 %\n",
            "deer : 0.29 %\n",
            "dog : 0.01 %\n",
            "bird : 0.0 %\n",
            "cat : 0.0 %\n"
          ],
          "name": "stdout"
        }
      ]
    },
    {
      "cell_type": "markdown",
      "metadata": {
        "id": "DNgKS1b8aO6H"
      },
      "source": [
        "Prediction array \n"
      ]
    },
    {
      "cell_type": "code",
      "metadata": {
        "id": "IbtwREoKgton",
        "outputId": "a5399dad-79b2-46d3-af79-2ed9e51863d5",
        "colab": {
          "base_uri": "https://localhost:8080/",
          "height": 35
        }
      },
      "source": [
        "y_predict = np.empty((0,1),dtype=np.float64)\n",
        "for i in range(len(x_test)):\n",
        "  predict = model.predict(np.array([x_test[i]]))\n",
        "  result = np.where(predict == np.amax(predict))\n",
        "  y_predict = np.append(y_predict, result[1])  \n",
        "print(y_predict)"
      ],
      "execution_count": null,
      "outputs": [
        {
          "output_type": "stream",
          "text": [
            "[3. 1. 8. ... 5. 1. 7.]\n"
          ],
          "name": "stdout"
        }
      ]
    },
    {
      "cell_type": "markdown",
      "metadata": {
        "id": "EJkZg6bCaVUB"
      },
      "source": [
        "confusion mattrix"
      ]
    },
    {
      "cell_type": "code",
      "metadata": {
        "id": "N93Vcwx3aY72",
        "outputId": "24556b84-806d-4d96-e464-55c3ae51d910",
        "colab": {
          "base_uri": "https://localhost:8080/",
          "height": 435
        }
      },
      "source": [
        "import pandas as pd\n",
        "from sklearn.metrics import confusion_matrix\n",
        "\n",
        "c = confusion_matrix(y_test, y_predict) \n",
        "pd.set_option('display.max_columns', 10)\n",
        "df = pd.DataFrame(c, columns = ['airplane', 'automobile', 'bird', 'cat', 'deer', 'dog', 'frog', 'horse', 'ship', 'truck'], \n",
        "                  index=['airplane', 'automobile', 'bird', 'cat', 'deer', 'dog', 'frog', 'horse', 'ship', 'truck'])  \n",
        "print(df )"
      ],
      "execution_count": null,
      "outputs": [
        {
          "output_type": "stream",
          "text": [
            "            airplane  automobile  bird  cat  deer  dog  frog  horse  ship  \\\n",
            "airplane         813          18    31    9     5    2     2      3    81   \n",
            "automobile        36         808     3    4     2    0     6      1    48   \n",
            "bird             128           9   621   65    54   38    22     17    31   \n",
            "cat               62          20   143  466    41  115    29     38    53   \n",
            "deer              84           6   205   63   481   15    24     80    29   \n",
            "dog               52           6   131  225    25  453    14     50    27   \n",
            "frog              26          35   138   85    43   17   590      8    24   \n",
            "horse             56          11    63   38    54   46     2    689     4   \n",
            "ship             111          43    12    8     3    2     1      4   795   \n",
            "truck             56         114     8   12     4    2     7      7    49   \n",
            "\n",
            "            truck  \n",
            "airplane       36  \n",
            "automobile     92  \n",
            "bird           15  \n",
            "cat            33  \n",
            "deer           13  \n",
            "dog            17  \n",
            "frog           34  \n",
            "horse          37  \n",
            "ship           21  \n",
            "truck         741  \n"
          ],
          "name": "stdout"
        }
      ]
    },
    {
      "cell_type": "markdown",
      "metadata": {
        "id": "lV5MZrhCacSA"
      },
      "source": [
        "benchmark"
      ]
    },
    {
      "cell_type": "code",
      "metadata": {
        "id": "n1zhRPdKadw1",
        "outputId": "e7ded6e8-22e2-4e74-b4fd-aa721112a6fa",
        "colab": {
          "base_uri": "https://localhost:8080/",
          "height": 326
        }
      },
      "source": [
        "from sklearn import metrics\n",
        "target_names = ['airplane', 'automobile', 'bird', 'cat', 'deer', 'dog', 'frog', 'hourse', 'ship', 'truck']\n",
        "print(metrics.classification_report(y_test, y_predict, target_names=target_names))"
      ],
      "execution_count": null,
      "outputs": [
        {
          "output_type": "stream",
          "text": [
            "              precision    recall  f1-score   support\n",
            "\n",
            "    airplane       0.57      0.81      0.67      1000\n",
            "  automobile       0.76      0.81      0.78      1000\n",
            "        bird       0.46      0.62      0.53      1000\n",
            "         cat       0.48      0.47      0.47      1000\n",
            "        deer       0.68      0.48      0.56      1000\n",
            "         dog       0.66      0.45      0.54      1000\n",
            "        frog       0.85      0.59      0.70      1000\n",
            "      hourse       0.77      0.69      0.73      1000\n",
            "        ship       0.70      0.80      0.74      1000\n",
            "       truck       0.71      0.74      0.73      1000\n",
            "\n",
            "    accuracy                           0.65     10000\n",
            "   macro avg       0.66      0.65      0.64     10000\n",
            "weighted avg       0.66      0.65      0.64     10000\n",
            "\n"
          ],
          "name": "stdout"
        }
      ]
    }
  ]
}